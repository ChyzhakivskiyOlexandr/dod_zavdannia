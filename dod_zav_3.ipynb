{
  "nbformat": 4,
  "nbformat_minor": 0,
  "metadata": {
    "colab": {
      "provenance": [],
      "authorship_tag": "ABX9TyODFb45rWhXfmzw4ikPk/gv",
      "include_colab_link": true
    },
    "kernelspec": {
      "name": "python3",
      "display_name": "Python 3"
    },
    "language_info": {
      "name": "python"
    }
  },
  "cells": [
    {
      "cell_type": "markdown",
      "metadata": {
        "id": "view-in-github",
        "colab_type": "text"
      },
      "source": [
        "<a href=\"https://colab.research.google.com/github/ChyzhakivskiyOlexandr/dod_zavdannia/blob/main/dod_zav_3.ipynb\" target=\"_parent\"><img src=\"https://colab.research.google.com/assets/colab-badge.svg\" alt=\"Open In Colab\"/></a>"
      ]
    },
    {
      "cell_type": "code",
      "execution_count": null,
      "metadata": {
        "id": "RHECCkCZPzvr"
      },
      "outputs": [],
      "source": [
        "В цьому наборі завдань попрацюємо з фукнціями, класами та list comprehensions.\n",
        "Нагадую синтаксис list comprehension\n",
        "- з умовою if:\n",
        "```\n",
        "newlist = [expression for item in iterable if condition == True]\n",
        "```\n",
        "\n",
        "- з умовою if...else:\n",
        "```\n",
        "newlist = [expression if condition == True else second_expression for item in iterable ]"
      ]
    },
    {
      "cell_type": "markdown",
      "source": [
        "1.Задана функція `strange_func`.\n",
        "Запустіть цю функцію на обчислення всіх елементів зі списку `input_list`. Результат обчислень запишіть у `output_list` та виведіть `output_list` на екран.\n",
        "\n",
        "Реалізуйте прохід всіх елементів списку `input_list` через цикл та через `list comprehension` - двома способами окремо.\n",
        "def strange_func(number: int) -> str:\n",
        "    if number < 0:\n",
        "        return \"слон\"\n",
        "    else:\n",
        "        return \"жираф\"\n",
        "input_list = [14, -48, 26, 33, 50, 36, 47, -3, 32, -6, -39, -1, 14, -35, 31, -28, 32, 4, 33, 11, -7, 43, -5, 17, -33, -37, 45, -27, -29, 14]\n",
        "\n",
        "Очікуваний результат: ```['жираф', 'слон', 'жираф', 'жираф', 'жираф', 'жираф', 'жираф', 'слон', 'жираф', 'слон', 'слон', 'слон', 'жираф', 'слон', 'жираф', 'слон', 'жираф', 'жираф', 'жираф', 'жираф', 'слон', 'жираф', 'слон', 'жираф', 'слон', 'слон', 'жираф', 'слон', 'слон', 'жираф']```"
      ],
      "metadata": {
        "id": "GJymVmbDQdJV"
      }
    },
    {
      "cell_type": "code",
      "source": [
        "def strange_func(number: int) -> str:\n",
        "    if number < 0:\n",
        "        return \"слон\"\n",
        "    else:\n",
        "        return \"жираф\"\n",
        "\n",
        "input_list = [14, -48, 26, 33, 50, 36, 47, -3, 32, -6, -39, -1, 14, -35, 31, -28, 32, 4, 33, 11, -7, 43, -5, 17, -33, -37, 45, -27, -29, 14]\n",
        "\n",
        "# цикл\n",
        "output_list_loop = []\n",
        "for number in input_list:\n",
        "    output_list_loop.append(strange_func(number))\n",
        "\n",
        "# list comprehension\n",
        "output_list_comp = [strange_func(number) for number in input_list]\n",
        "\n",
        "print(\"Вивід через цикл:\", output_list_loop)\n",
        "print(\"Вивід через list comprehension:\", output_list_comp)"
      ],
      "metadata": {
        "colab": {
          "base_uri": "https://localhost:8080/"
        },
        "id": "urdflwCHQeCT",
        "outputId": "a6bf2a3d-7fd9-421c-ecac-e7228fadd481"
      },
      "execution_count": 2,
      "outputs": [
        {
          "output_type": "stream",
          "name": "stdout",
          "text": [
            "Вивід через цикл: ['жираф', 'слон', 'жираф', 'жираф', 'жираф', 'жираф', 'жираф', 'слон', 'жираф', 'слон', 'слон', 'слон', 'жираф', 'слон', 'жираф', 'слон', 'жираф', 'жираф', 'жираф', 'жираф', 'слон', 'жираф', 'слон', 'жираф', 'слон', 'слон', 'жираф', 'слон', 'слон', 'жираф']\n",
            "Вивід через list comprehension: ['жираф', 'слон', 'жираф', 'жираф', 'жираф', 'жираф', 'жираф', 'слон', 'жираф', 'слон', 'слон', 'слон', 'жираф', 'слон', 'жираф', 'слон', 'жираф', 'жираф', 'жираф', 'жираф', 'слон', 'жираф', 'слон', 'жираф', 'слон', 'слон', 'жираф', 'слон', 'слон', 'жираф']\n"
          ]
        }
      ]
    },
    {
      "cell_type": "markdown",
      "source": [
        "2.Напишіть функцію `custom_func`, яка приймає на вхід число, перевіряє, чи воно є цілочислельного типу, і якщо так, то перевіряє число на парність:\n",
        "- якщо парне - вертає це число в степені 3,\n",
        "- а якщо непарне - це число мінус 10.  \n",
        "\n",
        "Якщо ж число на вході не цілочисельного типу, функція вертає 0.  \n",
        "\n",
        "Запустіть цю функцію на обчислення всіх чисел зі списку `input_list`. Результат обчислень запишіть у `output_list` та виведіть `output_list` на екран.\n",
        "\n",
        "Реалізуйте прохід всіх чисел списку `input_list` через цикл та через `list comprehension` - двома способами окремо.\n",
        "input_list = [36, 11.1, 91, 93, 26, 12.3213, 69, 50, 58, 22, 77, 18, 24, 55, 11, 76, 10.111, 39, 49, 94, 34, 40, 13, 111.111, 26, 44, 11, 34, 30, 39, 84, 37, 16, 1]\n",
        "\n",
        "Очікуваний результат:\n",
        "```[46656, 0, 81, 83, 17576, 0, 59, 125000, 195112, 10648, 67, 5832, 13824, 45, 1, 438976, 0, 29, 39, 830584, 39304, 64000, 3, 0, 17576, 85184, 1, 39304, 27000, 29, 592704, 27, 4096, -9]```\n",
        "Аби програмно порівняти ваш результат за очікуваним - використайте код нижче:\n",
        "output_list == [46656, 0, 81, 83, 17576, 0, 59, 125000, 195112, 10648, 67, 5832, 13824, 45, 1, 438976, 0, 29, 39, 830584, 39304, 64000, 3, 0, 17576, 85184, 1, 39304, 27000, 29, 592704, 27, 4096, -9]"
      ],
      "metadata": {
        "id": "1WWzmf8RRX7U"
      }
    },
    {
      "cell_type": "code",
      "source": [
        "def custom_func(number):\n",
        "    if isinstance(number, int):\n",
        "        if number % 2 == 0:\n",
        "            return number ** 3\n",
        "        else:\n",
        "            return number - 10\n",
        "    else:\n",
        "        return 0\n",
        "\n",
        "input_list = [36, 11.1, 91, 93, 26, 12.3213, 69, 50, 58, 22, 77, 18, 24, 55, 11, 76, 10.111, 39, 49, 94, 34, 40, 13, 111.111, 26, 44, 11, 34, 30, 39, 84, 37, 16, 1]\n",
        "\n",
        "# За допомогою цикл\n",
        "output_list_loop = []\n",
        "for number in input_list:\n",
        "    output_list_loop.append(custom_func(number))\n",
        "\n",
        "# За допомогою list comprehension\n",
        "output_list_comp = [custom_func(number) for number in input_list]\n",
        "\n",
        "print(\"Через цикл:\", output_list_loop)\n",
        "print(\"Через list comprehension:\", output_list_comp)"
      ],
      "metadata": {
        "colab": {
          "base_uri": "https://localhost:8080/"
        },
        "id": "IkDtq3SJRZE1",
        "outputId": "ee135b8d-d1e5-4df5-b086-c96f88214b89"
      },
      "execution_count": 3,
      "outputs": [
        {
          "output_type": "stream",
          "name": "stdout",
          "text": [
            "Через цикл: [46656, 0, 81, 83, 17576, 0, 59, 125000, 195112, 10648, 67, 5832, 13824, 45, 1, 438976, 0, 29, 39, 830584, 39304, 64000, 3, 0, 17576, 85184, 1, 39304, 27000, 29, 592704, 27, 4096, -9]\n",
            "Через list comprehension: [46656, 0, 81, 83, 17576, 0, 59, 125000, 195112, 10648, 67, 5832, 13824, 45, 1, 438976, 0, 29, 39, 830584, 39304, 64000, 3, 0, 17576, 85184, 1, 39304, 27000, 29, 592704, 27, 4096, -9]\n"
          ]
        }
      ]
    },
    {
      "cell_type": "markdown",
      "source": [
        "3.Напишіть функцію, яка отримує список чисел і повертає інший список із квадратами чисел, які діляться на 2 із вихідного списку. Наприклад, якщо на вході список [1,2,3,4], то на виході буде список [4,8].\n",
        "\n",
        "Запустіть функцію на вхідних списках `numbers_1`, `numbers_2`, `numbers_3` та виведіть результат роботи фукнції на екран.\n",
        "numbers_1 = [1, 2, 3, 4, 5, 6, 7, 8, 9, 10]\n",
        "numbers_2 = [-18, 35, 50, 2, -39, 8, -39, -15, 14, -42]\n",
        "numbers_3 = [-3.1, 1.11, 3.48, 4.48, 4.68, -1.59, -1.8, 1.76, 4.7, 2.0]\n",
        "\n",
        "Очікуваний результат:\n",
        "\n",
        "```\n",
        "    [4, 16, 36, 64, 100]\n",
        "    [324, 2500, 4, 64, 196, 1764]\n",
        "    [4.0]"
      ],
      "metadata": {
        "id": "eYRg7llySVSs"
      }
    },
    {
      "cell_type": "code",
      "source": [
        "def square_of_even(numbers):\n",
        "    squares = [num ** 2 for num in numbers if num % 2 == 0]\n",
        "    return squares\n",
        "\n",
        "numbers_1 = [1, 2, 3, 4, 5, 6, 7, 8, 9, 10]\n",
        "numbers_2 = [-18, 35, 50, 2, -39, 8, -39, -15, 14, -42]\n",
        "numbers_3 = [-3.1, 1.11, 3.48, 4.48, 4.68, -1.59, -1.8, 1.76, 4.7, 2.0]\n",
        "\n",
        "print(square_of_even(numbers_1))\n",
        "print(square_of_even(numbers_2))\n",
        "print(square_of_even(numbers_3))"
      ],
      "metadata": {
        "colab": {
          "base_uri": "https://localhost:8080/"
        },
        "id": "ULzF-IqDSWIz",
        "outputId": "ba8ec674-dd93-498b-c620-4c6b754d9528"
      },
      "execution_count": 8,
      "outputs": [
        {
          "output_type": "stream",
          "name": "stdout",
          "text": [
            "[4, 16, 36, 64, 100]\n",
            "[324, 2500, 4, 64, 196, 1764]\n",
            "[4.0]\n"
          ]
        }
      ]
    },
    {
      "cell_type": "code",
      "source": [
        "fruits = [\"apple\", \"banana\", \"cherry\", \"date\", \"elderberry\", \"fig\", \"grape\", \"honeydew\", \"indian prune\", \"jackfruit\", \"kiwi\", \"lemon\", \"mango\", \"nectarine\", \"orange\", \"pineapple\", \"quince\", \"raspberry\", \"strawberry\", \"tangerine\", \"ugli fruit\", \"victoria plum\", \"watermelon\", \"xigua\", \"yellow passionfruit\", \"zucchini\"]\n",
        "\n",
        "def has_letter_a(word):\n",
        "    return 'a' in word\n",
        "\n",
        "fruits_with_a = [fruit for fruit in fruits if has_letter_a(fruit)]\n",
        "print(fruits_with_a)"
      ],
      "metadata": {
        "colab": {
          "base_uri": "https://localhost:8080/"
        },
        "id": "SVyCnfqcbcnq",
        "outputId": "4c311826-4533-4a3a-f6fa-dc7671c4d5a6"
      },
      "execution_count": 10,
      "outputs": [
        {
          "output_type": "stream",
          "name": "stdout",
          "text": [
            "['apple', 'banana', 'date', 'grape', 'indian prune', 'jackfruit', 'mango', 'nectarine', 'orange', 'pineapple', 'raspberry', 'strawberry', 'tangerine', 'victoria plum', 'watermelon', 'xigua', 'yellow passionfruit']\n"
          ]
        }
      ]
    },
    {
      "cell_type": "markdown",
      "source": [
        "5.Заданий список чисел. Створіть новий список на основі заданоо за наступною логікою\n",
        "- якщо число більше або дорівнює 45, то в новий список додаємо це число + 5. Наприклад, для числа 50 вихідного списку, в новий ми додамо число 55\n",
        "- інакше - це число - 4. Наприклад, для числа 30 вихідного списку, в новий ми додамо число 26  \n",
        "\n",
        "Виведіть отриманий список на екран.\n",
        "\n",
        "Реалізуйте логіку через цикл та через `list comprehension` - двома способами окремо.\n",
        "input_list = [22, 13, 45, 50, 98, 69, 43, 44, 1]\n",
        "\n"
      ],
      "metadata": {
        "id": "6gfQfrt4eTjr"
      }
    },
    {
      "cell_type": "code",
      "source": [
        "input_list = [22, 13, 45, 50, 98, 69, 43, 44, 1]\n",
        "output_list = []\n",
        "\n",
        "for num in input_list:\n",
        "    if num >= 45:\n",
        "        output_list.append(num + 5)\n",
        "    else:\n",
        "        output_list.append(num - 4)\n",
        "\n",
        "print(output_list)"
      ],
      "metadata": {
        "colab": {
          "base_uri": "https://localhost:8080/"
        },
        "id": "QHjikz6OeVSK",
        "outputId": "e9982ecf-603a-4ee4-eddb-2577d5b9ae40"
      },
      "execution_count": 11,
      "outputs": [
        {
          "output_type": "stream",
          "name": "stdout",
          "text": [
            "[18, 9, 50, 55, 103, 74, 39, 40, -3]\n"
          ]
        }
      ]
    },
    {
      "cell_type": "code",
      "source": [
        "input_list = [22, 13, 45, 50, 98, 69, 43, 44, 1]\n",
        "\n",
        "output_list = [num + 5 if num >= 45 else num - 4 for num in input_list]\n",
        "\n",
        "print(output_list)"
      ],
      "metadata": {
        "colab": {
          "base_uri": "https://localhost:8080/"
        },
        "id": "TIyBtMRAe_Xq",
        "outputId": "abf6c016-0d1d-4e63-ee53-b2707deb3423"
      },
      "execution_count": 12,
      "outputs": [
        {
          "output_type": "stream",
          "name": "stdout",
          "text": [
            "[18, 9, 50, 55, 103, 74, 39, 40, -3]\n"
          ]
        }
      ]
    },
    {
      "cell_type": "markdown",
      "source": [
        "6.Заданий список `input_list` з пропущеними значеннями. Напишіть логіку, за якою ми будемо створювати новий список такий, що якщо значення None, то ми замість нього вставляємо 0, інакше - елемент вихідного спику.\n",
        "Тобто зі списку [1, None, 2] за цією логікою ми отримаємо [1, 0, 2] у новому списку.\n",
        "\n",
        "Виведіть отриманий список на екран.\n",
        "\n",
        "Реалізуйте логіку через цикл та через list comprehension - двома способами окремо.\n",
        "input_list = [22, None, 13, None, None, 45, 50, 98, None, 69, 43, 44, 1, None]"
      ],
      "metadata": {
        "id": "ziiAIROjfJqK"
      }
    },
    {
      "cell_type": "code",
      "source": [
        "input_list = [22, None, 13, None, None, 45, 50, 98, None, 69, 43, 44, 1, None]\n",
        "output_list = []\n",
        "\n",
        "for item in input_list:\n",
        "    if item is None:\n",
        "        output_list.append(0)\n",
        "    else:\n",
        "        output_list.append(item)\n",
        "\n",
        "print(output_list)"
      ],
      "metadata": {
        "colab": {
          "base_uri": "https://localhost:8080/"
        },
        "id": "vsDhqF-3fKcj",
        "outputId": "64ec6e3b-f3de-402a-d0c1-e1a9e73194a1"
      },
      "execution_count": 14,
      "outputs": [
        {
          "output_type": "stream",
          "name": "stdout",
          "text": [
            "[22, 0, 13, 0, 0, 45, 50, 98, 0, 69, 43, 44, 1, 0]\n"
          ]
        }
      ]
    },
    {
      "cell_type": "code",
      "source": [
        "input_list = [22, None, 13, None, None, 45, 50, 98, None, 69, 43, 44, 1, None]\n",
        "output_list = [0 if item is None else item for item in input_list]\n",
        "\n",
        "print(output_list)"
      ],
      "metadata": {
        "colab": {
          "base_uri": "https://localhost:8080/"
        },
        "id": "JVNe0UL7fbvk",
        "outputId": "4e40c565-a042-48aa-80d8-d4128f38d6c2"
      },
      "execution_count": 15,
      "outputs": [
        {
          "output_type": "stream",
          "name": "stdout",
          "text": [
            "[22, 0, 13, 0, 0, 45, 50, 98, 0, 69, 43, 44, 1, 0]\n"
          ]
        }
      ]
    },
    {
      "cell_type": "markdown",
      "source": [
        "7.Заданий клас, який описує коло та вміє рахувати площу кола по заданому радіусу. Створіть два кола з радіусами 5 і 11. Обчислість з допомогою функціоналу класу площі цих двох кіл і виведіть результати на екран.\n",
        "import math\n",
        "\n",
        "class Circle:\n",
        "    def __init__(self, radius):\n",
        "        self.radius = radius\n",
        "\n",
        "    def calculate_area(self):\n",
        "        return round(math.pi * self.radius ** 2, 2)"
      ],
      "metadata": {
        "id": "zCPee8V9fk_L"
      }
    },
    {
      "cell_type": "code",
      "source": [
        "import math\n",
        "\n",
        "class Circle:\n",
        "    def __init__(self, radius):\n",
        "        self.radius = radius\n",
        "\n",
        "    def calculate_area(self):\n",
        "        return round(math.pi * self.radius ** 2, 2)\n",
        "\n",
        "# Створення об'єктів класу Circle\n",
        "circle1 = Circle(5)\n",
        "circle2 = Circle(11)\n",
        "\n",
        "# Обчислення площі для кожного кола\n",
        "area1 = circle1.calculate_area()\n",
        "area2 = circle2.calculate_area()\n",
        "\n",
        "# Виведення результатів на екран\n",
        "print(\"Площа першого кола з радіусом 5:\", area1)\n",
        "print(\"Площа другого кола з радіусом 11:\", area2)"
      ],
      "metadata": {
        "colab": {
          "base_uri": "https://localhost:8080/"
        },
        "id": "0Xf1m63Kfmhr",
        "outputId": "3b71ebde-a1d8-4ede-8523-d7037784f490"
      },
      "execution_count": 16,
      "outputs": [
        {
          "output_type": "stream",
          "name": "stdout",
          "text": [
            "Площа першого кола з радіусом 5: 78.54\n",
            "Площа другого кола з радіусом 11: 380.13\n"
          ]
        }
      ]
    },
    {
      "cell_type": "markdown",
      "source": [
        "8.Додайте в клас `Circle`, визначений в попередньому завданні, метод для обчислення периметра `calculate_perimeter` з округленням до двох цифр після коми. Периметр кола рахується за формулою `C = 2 · π · r`, де π - це значення числа Пі, яке ми можемо отримати з math.pi, а r - радіус кола. Спопіюйте визначення класу і додайте в нього новий метод. Після цього створіть нові кола з радіусами 5 і 11 та обчисліть їх периметри.   \n",
        "Увага: нам треба додати новий метод, але ми нічого не видаляємо :)"
      ],
      "metadata": {
        "id": "9PableyOf_5k"
      }
    },
    {
      "cell_type": "code",
      "source": [
        "import math\n",
        "\n",
        "class Circle:\n",
        "    def __init__(self, radius):\n",
        "        self.radius = radius\n",
        "\n",
        "    def calculate_area(self):\n",
        "        return round(math.pi * self.radius ** 2, 2)\n",
        "\n",
        "    def calculate_perimeter(self):\n",
        "        return round(2 * math.pi * self.radius, 2)\n",
        "\n",
        "circle1 = Circle(5)\n",
        "circle2 = Circle(11)\n",
        "\n",
        "perimeter1 = circle1.calculate_perimeter()\n",
        "perimeter2 = circle2.calculate_perimeter()\n",
        "\n",
        "print(\"Периметр першого кола з радіусом 5:\", perimeter1)\n",
        "print(\"Периметр другого кола з радіусом 11:\", perimeter2)"
      ],
      "metadata": {
        "colab": {
          "base_uri": "https://localhost:8080/"
        },
        "id": "PCvAsdFbgAsU",
        "outputId": "7d218ee4-b524-4cc9-8c3c-59dd6b20fef0"
      },
      "execution_count": 17,
      "outputs": [
        {
          "output_type": "stream",
          "name": "stdout",
          "text": [
            "Периметр першого кола з радіусом 5: 31.42\n",
            "Периметр другого кола з радіусом 11: 69.12\n"
          ]
        }
      ]
    },
    {
      "cell_type": "markdown",
      "source": [
        "9.Створіть клас під назвою `Student`, який має два атрибути: `name` (ім'я) та `grade` (оцінка). Оцінкою може були літера - з набору  [\"F\", \"D\", \"C\", \"B\", \"A\"], де \"А\" - найвища оцінка, \"F\" - найнижча.  Клас повинен мати наступні функціональні можливості:\n",
        "\n",
        "1. Метод `__init__`, який ініціалізує `name` та `grade`.\n",
        "2. Метод `display_student()`, який відображає ім'я та оцінку студента з допомогою `print`. Форматування - на Ваш розсуд.\n",
        "3. Метод `upgrade_grade()`, який підвищує оцінку на 1 рівень (наприклад, з \"B\" на \"A\"), якщо вона вже не \"A\". Якщо вже \"А\", то необхідно вивести повідомлення про те, що оцінка не може бути підвищена, оскільки вона вже і так найвища.\n",
        "\n",
        "Після створення класу, створіть 2 екземпляри `Student` з вигаданими імʼями та оцінками, і перевірте роботу методів `display_student()` та `upgrade_grade()`. Виведіть результат перевірки на екран.\n",
        "\n",
        "  "
      ],
      "metadata": {
        "id": "Ls0MNXTNgW1b"
      }
    },
    {
      "cell_type": "code",
      "source": [
        "class Student:\n",
        "    def __init__(self, name, grade):\n",
        "        self.name = name\n",
        "        self.grade = grade\n",
        "\n",
        "    def display_student(self):\n",
        "        print(f\"Student {self.name} has grade {self.grade}\")\n",
        "\n",
        "    def upgrade_grade(self):\n",
        "        grades = [\"F\", \"D\", \"C\", \"B\", \"A\"]\n",
        "        if self.grade == \"A\":\n",
        "            print(\"The grade cannot be upgraded because it is already the highest.\")\n",
        "        else:\n",
        "            current_index = grades.index(self.grade)\n",
        "            next_grade = grades[current_index + 1]\n",
        "            self.grade = next_grade\n",
        "            print(f\"The grade of student {self.name} has been upgraded to {next_grade}\")\n",
        "student1 = Student(\"John\", \"B\")\n",
        "student2 = Student(\"Alice\", \"C\")\n",
        "student1.display_student()\n",
        "student1.upgrade_grade()\n",
        "student1.display_student()\n",
        "student2.display_student()\n",
        "student2.upgrade_grade()\n",
        "student2.display_student()"
      ],
      "metadata": {
        "colab": {
          "base_uri": "https://localhost:8080/"
        },
        "id": "xtsH_bhugYME",
        "outputId": "f95e5e88-eae6-487e-ad0f-501a543493b4"
      },
      "execution_count": 18,
      "outputs": [
        {
          "output_type": "stream",
          "name": "stdout",
          "text": [
            "Student John has grade B\n",
            "The grade of student John has been upgraded to A\n",
            "Student John has grade A\n",
            "Student Alice has grade C\n",
            "The grade of student Alice has been upgraded to B\n",
            "Student Alice has grade B\n"
          ]
        }
      ]
    },
    {
      "cell_type": "markdown",
      "source": [
        "10.Створіть клас з назвою `GraduateStudent`, який є нащадком класу `Student` з попереднього завдання.\n",
        "Клас `GraduateStudent` повинен мати додатковий атрибут `thesis_title` (назва дисертації - тип str). Тобто цей атрибут має зʼявитись при ініціації екземпляру класу.  \n",
        "Він також повинен мати метод `display_thesis()`, який виводить назву дисертації.\n",
        "\n",
        "Після створення класу, створіть екземпляр `GraduateStudent` і перевірте роботу методів `display_student()`, `upgrade_grade()`, та `display_thesis()`. Виведіть результат перевірки на екран.\n"
      ],
      "metadata": {
        "id": "wG_kIsRSh7iM"
      }
    },
    {
      "cell_type": "code",
      "source": [
        "class GraduateStudent(Student):\n",
        "    def __init__(self, name, grade, thesis_title):\n",
        "        super().__init__(name, grade)\n",
        "        self.thesis_title = thesis_title\n",
        "\n",
        "    def display_thesis(self):\n",
        "        print(f\"Thesis title of {self.name}: {self.thesis_title}\")\n",
        "\n",
        "graduate_student = GraduateStudent(\"Emma\", \"B\", \"Exploring Machine Learning Techniques\")\n",
        "\n",
        "graduate_student.display_student()\n",
        "graduate_student.upgrade_grade()\n",
        "graduate_student.display_student()\n",
        "graduate_student.display_thesis()"
      ],
      "metadata": {
        "colab": {
          "base_uri": "https://localhost:8080/"
        },
        "id": "h3RoD3OAh8Pj",
        "outputId": "22edae64-6f69-43cc-b5a1-5fb01ca2c2d1"
      },
      "execution_count": 19,
      "outputs": [
        {
          "output_type": "stream",
          "name": "stdout",
          "text": [
            "Student Emma has grade B\n",
            "The grade of student Emma has been upgraded to A\n",
            "Student Emma has grade A\n",
            "Thesis title of Emma: Exploring Machine Learning Techniques\n"
          ]
        }
      ]
    }
  ]
}