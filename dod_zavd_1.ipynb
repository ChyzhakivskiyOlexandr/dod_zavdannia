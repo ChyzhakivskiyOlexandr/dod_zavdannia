{
  "nbformat": 4,
  "nbformat_minor": 0,
  "metadata": {
    "colab": {
      "provenance": [],
      "authorship_tag": "ABX9TyMq6cyJOZ2mPdfpA5QQcpvn",
      "include_colab_link": true
    },
    "kernelspec": {
      "name": "python3",
      "display_name": "Python 3"
    },
    "language_info": {
      "name": "python"
    }
  },
  "cells": [
    {
      "cell_type": "markdown",
      "metadata": {
        "id": "view-in-github",
        "colab_type": "text"
      },
      "source": [
        "<a href=\"https://colab.research.google.com/github/ChyzhakivskiyOlexandr/dod_zavdannia/blob/main/dod_zavd_1.ipynb\" target=\"_parent\"><img src=\"https://colab.research.google.com/assets/colab-badge.svg\" alt=\"Open In Colab\"/></a>"
      ]
    },
    {
      "cell_type": "code",
      "execution_count": null,
      "metadata": {
        "id": "wNV13HCNfgrw"
      },
      "outputs": [],
      "source": [
        "# 1.Задане значення у змінній var. Перетворіть значення в змінній var на цілочисельне, запишіть в нову змінну `var_int`\n",
        "# та виведіть тип нової змінної `var_int`."
      ]
    },
    {
      "cell_type": "code",
      "source": [
        "var = '1224'\n",
        "\n",
        "var_int = int(var)\n",
        "print(type(var_int))"
      ],
      "metadata": {
        "colab": {
          "base_uri": "https://localhost:8080/"
        },
        "id": "vs8zut5Wf543",
        "outputId": "f2383333-efb7-4b92-ed96-a124f535093a"
      },
      "execution_count": 2,
      "outputs": [
        {
          "output_type": "stream",
          "name": "stdout",
          "text": [
            "<class 'int'>\n"
          ]
        }
      ]
    },
    {
      "cell_type": "markdown",
      "source": [
        "2.У Вас є список слів. Виведіть кожне третє слово в списку.\n",
        "words = [\"apple\", \"banana\", \"cherry\", \"date\", \"elderberry\", \"fig\", \"grape\", \"honeydew\", \"ice cream\", \"jackfruit\", \"kiwi\", \"lemon\", \"mango\", \"nectarine\", \"orange\", \"pineapple\", \"quince\", \"raspberry\", \"strawberry\", \"tangerine\", \"ugli fruit\", \"vanilla\", \"watermelon\", \"xigua\", \"yam\", \"zucchini\"]\n",
        "\n"
      ],
      "metadata": {
        "id": "F9fVA5_CgaU4"
      }
    },
    {
      "cell_type": "code",
      "source": [
        "words = [\"apple\", \"banana\", \"cherry\", \"date\", \"elderberry\", \"fig\", \"grape\", \"honeydew\", \"ice cream\", \"jackfruit\", \"kiwi\", \"lemon\", \"mango\", \"nectarine\", \"orange\", \"pineapple\", \"quince\", \"raspberry\", \"strawberry\", \"tangerine\", \"ugli fruit\", \"vanilla\", \"watermelon\", \"xigua\", \"yam\", \"zucchini\"]\n",
        "\n",
        "for i in range(2, len(words), 3):\n",
        "    print(words[i])"
      ],
      "metadata": {
        "colab": {
          "base_uri": "https://localhost:8080/"
        },
        "id": "vClXli_ngclg",
        "outputId": "42725276-a5c3-466d-8b25-df77904bd4b4"
      },
      "execution_count": 3,
      "outputs": [
        {
          "output_type": "stream",
          "name": "stdout",
          "text": [
            "cherry\n",
            "fig\n",
            "ice cream\n",
            "lemon\n",
            "orange\n",
            "raspberry\n",
            "ugli fruit\n",
            "xigua\n"
          ]
        }
      ]
    },
    {
      "cell_type": "markdown",
      "source": [
        "3.Скільки всього СЛІВ у списку `words`?"
      ],
      "metadata": {
        "id": "G4x9-11Hg0Eg"
      }
    },
    {
      "cell_type": "code",
      "source": [
        "print(len(words))"
      ],
      "metadata": {
        "colab": {
          "base_uri": "https://localhost:8080/"
        },
        "id": "xSlrV7o-g4TU",
        "outputId": "e49f5e01-c603-4488-f1bc-6ac67c9fc79b"
      },
      "execution_count": 4,
      "outputs": [
        {
          "output_type": "stream",
          "name": "stdout",
          "text": [
            "26\n"
          ]
        }
      ]
    },
    {
      "cell_type": "markdown",
      "source": [
        "4.Скільки всього ЛІТЕР в усіх словах у списку words?"
      ],
      "metadata": {
        "id": "-qKmyxzvhHSI"
      }
    },
    {
      "cell_type": "code",
      "source": [
        "total_letters = 0\n",
        "for word in words:\n",
        "    total_letters += len(word)\n",
        "print(total_letters)"
      ],
      "metadata": {
        "colab": {
          "base_uri": "https://localhost:8080/"
        },
        "id": "KbFp0NolhLVx",
        "outputId": "e84ccb7b-33ef-423d-d924-d854fdfae6ea"
      },
      "execution_count": 5,
      "outputs": [
        {
          "output_type": "stream",
          "name": "stdout",
          "text": [
            "180\n"
          ]
        }
      ]
    },
    {
      "cell_type": "markdown",
      "source": [
        "5.Скільки разів зустрічається кожна літера в усіх словах списку `words`? Відсортуйте літери в результуючому словнику за алфавітним порядком.\n",
        "\n",
        "Очікуваний результат:\n",
        "```\n",
        "{' ': 2,\n",
        " 'a': 20,\n",
        " 'b': 4,\n",
        " 'c': 8,\n",
        " 'd': 3,\n",
        " 'e': 24,\n",
        " 'f': 3,\n",
        " 'g': 7,\n",
        " 'h': 3,\n",
        " 'i': 15,\n",
        " 'j': 1,\n",
        " 'k': 2,\n",
        " 'l': 8,\n",
        " 'm': 5,\n",
        " 'n': 15,\n",
        " 'o': 5,\n",
        " 'p': 7,\n",
        " 'q': 1,\n",
        " 'r': 19,\n",
        " 's': 2,\n",
        " 't': 7,\n",
        " 'u': 6,\n",
        " 'v': 1,\n",
        " 'w': 4,\n",
        " 'x': 1,\n",
        " 'y': 6,\n",
        " 'z': 1}"
      ],
      "metadata": {
        "id": "XYCMkpBBhoPA"
      }
    },
    {
      "cell_type": "code",
      "source": [
        "letter_count = {}\n",
        "for word in words:\n",
        "    for letter in word:\n",
        "        letter_count[letter] = letter_count.get(letter, 0) + 1\n",
        "sorted_letter_count = dict(sorted(letter_count.items()))\n",
        "for letter, count in sorted_letter_count.items():\n",
        "    print(f\"{letter}: {count}\")"
      ],
      "metadata": {
        "colab": {
          "base_uri": "https://localhost:8080/"
        },
        "id": "Lt1Y8seKhpIA",
        "outputId": "3bed58f0-eb8b-4397-9227-418943e7e3b1"
      },
      "execution_count": 6,
      "outputs": [
        {
          "output_type": "stream",
          "name": "stdout",
          "text": [
            " : 2\n",
            "a: 20\n",
            "b: 4\n",
            "c: 8\n",
            "d: 3\n",
            "e: 24\n",
            "f: 3\n",
            "g: 7\n",
            "h: 3\n",
            "i: 15\n",
            "j: 1\n",
            "k: 2\n",
            "l: 8\n",
            "m: 5\n",
            "n: 15\n",
            "o: 5\n",
            "p: 7\n",
            "q: 1\n",
            "r: 19\n",
            "s: 2\n",
            "t: 7\n",
            "u: 6\n",
            "v: 1\n",
            "w: 4\n",
            "x: 1\n",
            "y: 6\n",
            "z: 1\n"
          ]
        }
      ]
    },
    {
      "cell_type": "markdown",
      "source": [
        "6.Використовуючи результат виконання попереднього завдання, виведіть на екран ту літеру, яка зустрічається найчастіше і скільки разів вона зустрічається. Це треба зробити програмно, а не просто подививщись на дані :)\n"
      ],
      "metadata": {
        "id": "hfCBWjfViazL"
      }
    },
    {
      "cell_type": "code",
      "source": [
        "most_common_letter = max(letter_count, key=letter_count.get)\n",
        "most_common_count = letter_count[most_common_letter]\n",
        "print(f\"Найчастіше зустрічається літера '{most_common_letter}' ({most_common_count} разів)\")\n"
      ],
      "metadata": {
        "colab": {
          "base_uri": "https://localhost:8080/"
        },
        "id": "SeGsqE7Nic4f",
        "outputId": "eda5df53-43af-4172-cb7e-b11192e099e6"
      },
      "execution_count": 7,
      "outputs": [
        {
          "output_type": "stream",
          "name": "stdout",
          "text": [
            "Найчастіше зустрічається літера 'e' (24 разів)\n"
          ]
        }
      ]
    },
    {
      "cell_type": "markdown",
      "source": [
        "7.Для кожного елементу списку виведіть тип елемену. Якщо тип обʼєкту - int (тільки цей тип безпосередньо!), виведіть результат піднесення цього числа до степеню 5.\n",
        "elements = [12, 'type', 'Bob', True, 'False', 1.414, 1444.333, 123/33, 5]\n",
        "\n",
        "Приклад очікуваного результату (текстові коментарі і форматування можуть бути іншими):\n",
        "```\n",
        "    The type of element 12 is <class 'int'>\n",
        "    This is a number! Let't take it to power 5! The result is: 248832\n",
        "    The type of element type is <class 'str'>\n",
        "    The type of element Bob is <class 'str'>\n",
        "    The type of element True is <class 'bool'>\n",
        "    The type of element False is <class 'str'>\n",
        "    The type of element 1.414 is <class 'float'>\n",
        "    The type of element 1444.333 is <class 'float'>\n",
        "    The type of element 3.727272727272727 is <class 'float'>\n",
        "    The type of element 5 is <class 'int'>\n",
        "    This is a number! Let't take it to power 5! The result is: 3125\n",
        "```"
      ],
      "metadata": {
        "id": "KVV9bIzji4Ad"
      }
    },
    {
      "cell_type": "code",
      "source": [
        "elements = [12, 'type', 'Bob', True, 'False', 1.414, 1444.333, 123/33, 5]\n",
        "\n",
        "for element in elements:\n",
        "    print(f\"The type of element {element} is {type(element)}\")\n",
        "    if isinstance(element, int):\n",
        "        result = element ** 5\n",
        "        print(f\"This is a number! Let's take it to power 5! The result is: {result}\")"
      ],
      "metadata": {
        "colab": {
          "base_uri": "https://localhost:8080/"
        },
        "id": "7Au4eAf-i5uC",
        "outputId": "d07e9363-448e-4b91-8f13-7faa7990a975"
      },
      "execution_count": 8,
      "outputs": [
        {
          "output_type": "stream",
          "name": "stdout",
          "text": [
            "The type of element 12 is <class 'int'>\n",
            "This is a number! Let's take it to power 5! The result is: 248832\n",
            "The type of element type is <class 'str'>\n",
            "The type of element Bob is <class 'str'>\n",
            "The type of element True is <class 'bool'>\n",
            "This is a number! Let's take it to power 5! The result is: 1\n",
            "The type of element False is <class 'str'>\n",
            "The type of element 1.414 is <class 'float'>\n",
            "The type of element 1444.333 is <class 'float'>\n",
            "The type of element 3.727272727272727 is <class 'float'>\n",
            "The type of element 5 is <class 'int'>\n",
            "This is a number! Let's take it to power 5! The result is: 3125\n"
          ]
        }
      ]
    },
    {
      "cell_type": "markdown",
      "source": [
        "8.Створіть програму, яка:\n",
        "\n",
        "- Для визначених значень `name` та `age` друкує повідомлення \"Привіт, [Ім’я] ! Вам [Вік] років.\".\n",
        "- Обчислює, скільки років залишилося користувачеві до 100 років, і друкує повідомлення з цією інформацією: \"До 100 років Вам лишилось [Число] років.\"  \n",
        "\n",
        "Запустіть програму для набору користувачів нижче.\n",
        "users = [\n",
        "    ['Karl', 30],\n",
        "    ['Klara', 15],\n",
        "    ['Alexis', 56],\n",
        "    ['Charles', 99]\n",
        "]"
      ],
      "metadata": {
        "id": "5vw-2RXPjQ9N"
      }
    },
    {
      "cell_type": "code",
      "source": [
        "users = [\n",
        "    ['Karl', 30],\n",
        "    ['Klara', 15],\n",
        "    ['Alexis', 56],\n",
        "    ['Charles', 99]\n",
        "]\n",
        "\n",
        "for user in users:\n",
        "    name, age = user\n",
        "    print(f\"Привіт, {name}! Вам {age} років.\")\n",
        "    years_left = 100 - age\n",
        "    print(f\"До 100 років Вам лишилось {years_left} років.\\n\")"
      ],
      "metadata": {
        "colab": {
          "base_uri": "https://localhost:8080/"
        },
        "id": "pdccncu2jRs0",
        "outputId": "320717d5-3858-4172-8cc8-4a3bf10b958e"
      },
      "execution_count": 9,
      "outputs": [
        {
          "output_type": "stream",
          "name": "stdout",
          "text": [
            "Привіт, Karl! Вам 30 років.\n",
            "До 100 років Вам лишилось 70 років.\n",
            "\n",
            "Привіт, Klara! Вам 15 років.\n",
            "До 100 років Вам лишилось 85 років.\n",
            "\n",
            "Привіт, Alexis! Вам 56 років.\n",
            "До 100 років Вам лишилось 44 років.\n",
            "\n",
            "Привіт, Charles! Вам 99 років.\n",
            "До 100 років Вам лишилось 1 років.\n",
            "\n"
          ]
        }
      ]
    },
    {
      "cell_type": "markdown",
      "source": [
        "9.Напишть фрагмент коду, який перевіряє, чи слово є паліндромом. Слово (або фраза) є паліндромом, якщо при читанні його зворотньому напрямі буде таке саме слово.\n",
        "Наприклад, слово \"radar\" є паліндромом, але \"radix\" не є паліндромом. Код в кінці має видавати результат True або False.  \n",
        "Код має звертати увагу лише на символи-літери. Регістр літер не має значення, а знаки пунктуації (кома, крапка) та `-+=/\\`` мають бути вилучені з рядка перед перевіркою. Так само, пробіли не впливають на визначення,чи слово є палендромом. Мають значення лише літери.\n",
        "Тобто рядки \"A mam, a\" та \"A mamA\" є паліндромами, а \"AmamU\" - ні.\n",
        "\n",
        "Опціонально ви можете розмістити код на перевірку чи є слово паліндромом у фукнцію.\n",
        "Запустіть свій код для рядків з набору нижче і виведіть результат перевірки на екран для кожного рядка.\n",
        "phrases_to_check = [\n",
        "    'radar',\n",
        "    'radix',\n",
        "    'A mam, a',\n",
        "    'A mamA',\n",
        "    'Sit on a potato pan Otis',\n",
        "    'Taco cat.',\n",
        "    'Taco cat',\n",
        "    'Tornado',\n",
        "    \"Go hang a salami, I'm a lasagna hog.\"\n",
        "]\n",
        "\n",
        "Очкувані результати обчислень:\n",
        "```\n",
        "    radar - True\n",
        "    radix - False\n",
        "    A mam, a - True\n",
        "    A mamA - True\n",
        "    Sit on a potato pan Otis - True\n",
        "    Taco cat. - True\n",
        "    Taco cat - True\n",
        "    Tornado - False\n",
        "    Go hang a salami, I'm a lasagna hog. - True"
      ],
      "metadata": {
        "id": "0j1kvXSSjwaI"
      }
    },
    {
      "cell_type": "code",
      "source": [
        "import re\n",
        "\n",
        "def is_palindrome(word):\n",
        "    # Вилучаємо знаки пунктуації та переводимо слово у нижній регістр\n",
        "    word = re.sub(r'[^A-Za-z]', '', word.lower())\n",
        "    # Перевіряємо, чи слово співпадає зі своїм оберненим виглядом\n",
        "    return word == word[::-1]\n",
        "\n",
        "phrases_to_check = [\n",
        "    'radar',\n",
        "    'radix',\n",
        "    'A mam, a',\n",
        "    'A mamA',\n",
        "    'Sit on a potato pan Otis',\n",
        "    'Taco cat.',\n",
        "    'Taco cat',\n",
        "    'Tornado',\n",
        "    \"Go hang a salami, I'm a lasagna hog.\"\n",
        "]\n",
        "\n",
        "for phrase in phrases_to_check:\n",
        "    print(f\"{phrase} - {is_palindrome(phrase)}\")"
      ],
      "metadata": {
        "colab": {
          "base_uri": "https://localhost:8080/"
        },
        "id": "iDBHkykHjxvJ",
        "outputId": "fc02a07b-a370-40c3-e1e6-7440c3d91762"
      },
      "execution_count": 10,
      "outputs": [
        {
          "output_type": "stream",
          "name": "stdout",
          "text": [
            "radar - True\n",
            "radix - False\n",
            "A mam, a - True\n",
            "A mamA - True\n",
            "Sit on a potato pan Otis - True\n",
            "Taco cat. - True\n",
            "Taco cat - True\n",
            "Tornado - False\n",
            "Go hang a salami, I'm a lasagna hog. - True\n"
          ]
        }
      ]
    }
  ]
}